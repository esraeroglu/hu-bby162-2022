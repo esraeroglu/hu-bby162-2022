{
  "nbformat": 4,
  "nbformat_minor": 0,
  "metadata": {
    "colab": {
      "name": "kelimeoyunu1.ipynb",
      "provenance": [],
      "toc_visible": true,
      "authorship_tag": "ABX9TyPmQ7u+6phHdrJCmlPneMRi",
      "include_colab_link": true
    },
    "kernelspec": {
      "name": "python3",
      "display_name": "Python 3"
    },
    "language_info": {
      "name": "python"
    }
  },
  "cells": [
    {
      "cell_type": "markdown",
      "metadata": {
        "id": "view-in-github",
        "colab_type": "text"
      },
      "source": [
        "<a href=\"https://colab.research.google.com/github/esraeroglu/hu-bby162-2022/blob/main/kelimeoyunu1.ipynb\" target=\"_parent\"><img src=\"https://colab.research.google.com/assets/colab-badge.svg\" alt=\"Open In Colab\"/></a>"
      ]
    },
    {
      "cell_type": "code",
      "execution_count": 3,
      "metadata": {
        "colab": {
          "base_uri": "https://localhost:8080/"
        },
        "id": "EdT0KsghjuP7",
        "outputId": "b48fd78d-59f1-4d31-840c-2bae7cb4a39e"
      },
      "outputs": [
        {
          "output_type": "stream",
          "name": "stdout",
          "text": [
            "Türkiyede en çok bulunan burçlar..!\n",
            "Tahmininizi giriniz: terazi\n",
            "Tahmininizi giriniz: koç\n",
            "Schön\n"
          ]
        }
      ],
      "source": [
        "print(\"Türkiyede en çok bulunan burçlar..!\")\n",
        "liste=[\"oğlak\",\"yengeç\",\"balık\",\"kova\",\"boğa\",\"koç\"]\n",
        "while True:\n",
        "  tahmin = input(\"Tahmininizi giriniz: \")\n",
        "  if tahmin in liste:\n",
        "    print(\"Schön\")\n",
        "    break"
      ]
    },
    {
      "cell_type": "code",
      "source": [
        "print(\"Türkiyede en çok bulunan burçlar..!\")\n",
        "liste=[\"oğlak\",\"yengeç\",\"balık\",\"kova\",\"boğa\",\"koç\"]\n",
        "while True:\n",
        "  tahmin = input(\"Tahmininizi giriniz: \")\n",
        "  if tahmin in liste:\n",
        "    print(\"Tebriksss\")\n",
        "    break"
      ],
      "metadata": {
        "colab": {
          "base_uri": "https://localhost:8080/"
        },
        "id": "_5jxk5lFnhhQ",
        "outputId": "d72cb56f-48d9-4f87-8411-69f1c3909ea6"
      },
      "execution_count": 4,
      "outputs": [
        {
          "output_type": "stream",
          "name": "stdout",
          "text": [
            "Türkiyede en çok bulunan burçlar..!\n",
            "Tahmininizi giriniz: yengeç\n",
            "Tebriksss\n"
          ]
        }
      ]
    }
  ]
}