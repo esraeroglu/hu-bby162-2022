{
  "nbformat": 4,
  "nbformat_minor": 0,
  "metadata": {
    "colab": {
      "name": "veritabani.txt",
      "provenance": [],
      "authorship_tag": "ABX9TyPu9U8GC2vTR4c/VQMQM3rj",
      "include_colab_link": true
    },
    "kernelspec": {
      "name": "python3",
      "display_name": "Python 3"
    },
    "language_info": {
      "name": "python"
    }
  },
  "cells": [
    {
      "cell_type": "markdown",
      "metadata": {
        "id": "view-in-github",
        "colab_type": "text"
      },
      "source": [
        "<a href=\"https://colab.research.google.com/github/esraeroglu/hu-bby162-2022/blob/main/veritabani_txt.ipynb\" target=\"_parent\"><img src=\"https://colab.research.google.com/assets/colab-badge.svg\" alt=\"Open In Colab\"/></a>"
      ]
    },
    {
      "cell_type": "code",
      "execution_count": null,
      "metadata": {
        "id": "ZA1EhJ5iOc4U"
      },
      "outputs": [],
      "source": [
        "Gurur ve Önyargı-Jane Austen-2020-İş bankası kültür yayınları \n",
        "Bülbülü Öldürmek-Harper Lee-2020-Epsilon yayınevi \n",
        "İçimizdeki Şeytan-Sabahattin Ali-2020-Yapı kredi yayınları \n",
        "Hamlet-William Shakespeare-2019-Anonim yayıncılık \n",
        "Sefiller-Victor Hugo-2019-İş bankası kültür yayınları"
      ]
    }
  ]
}