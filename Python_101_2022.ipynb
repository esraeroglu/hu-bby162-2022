{
  "nbformat": 4,
  "nbformat_minor": 0,
  "metadata": {
    "colab": {
      "name": "Python_101-2022.ipynb",
      "provenance": [],
      "authorship_tag": "ABX9TyMwql+of/iMOaNibZP76pbN",
      "include_colab_link": true
    },
    "kernelspec": {
      "name": "python3",
      "display_name": "Python 3"
    },
    "language_info": {
      "name": "python"
    }
  },
  "cells": [
    {
      "cell_type": "markdown",
      "metadata": {
        "id": "view-in-github",
        "colab_type": "text"
      },
      "source": [
        "<a href=\"https://colab.research.google.com/github/esraeroglu/hu-bby162-2022/blob/main/Python_101_2022.ipynb\" target=\"_parent\"><img src=\"https://colab.research.google.com/assets/colab-badge.svg\" alt=\"Open In Colab\"/></a>"
      ]
    },
    {
      "cell_type": "code",
      "execution_count": null,
      "metadata": {
        "id": "5t0vTSJYTJyR"
      },
      "outputs": [],
      "source": [
        "print(\"Merhaba Dünya \")\n",
        "print(\"Ben Esra\""
      ]
    },
    {
      "cell_type": "code",
      "source": [
        "email= \"erogluesra430@gmail.com\"\n",
        "print(\"eposta: \" +email)"
      ],
      "metadata": {
        "id": "bOkuEX1UVY34"
      },
      "execution_count": null,
      "outputs": []
    },
    {
      "cell_type": "code",
      "source": [
        "degisken= 1\n",
        "kullaniciAdi = \"esraeroglu\"\n",
        "kul_ad = \"erglu\"\n",
        "\n"
      ],
      "metadata": {
        "id": "VCKF9XATWgyX"
      },
      "execution_count": null,
      "outputs": []
    },
    {
      "cell_type": "code",
      "source": [
        "tamSayi = 10\n",
        "print(type(tamSayi))\n",
        "\n",
        "ondalikSayi = 2.1\n",
        "print(type(ondalikSayi))"
      ],
      "metadata": {
        "id": "-Fg3zuaWW-TN"
      },
      "execution_count": null,
      "outputs": []
    },
    {
      "cell_type": "code",
      "source": [
        "sayi = 21\n",
        "sonuç= sayi%4\n",
        "print(sonuç)"
      ],
      "metadata": {
        "id": "zh4C0XxqWKUU"
      },
      "execution_count": null,
      "outputs": []
    },
    {
      "cell_type": "code",
      "source": [
        "sayi=6\n",
        "sayi+=5\n",
        "print(sayi)\n"
      ],
      "metadata": {
        "id": "yNx-PuQmWjD1"
      },
      "execution_count": null,
      "outputs": []
    },
    {
      "cell_type": "code",
      "source": [
        "deger1 = 21\n",
        "deger2 = 21\n",
        "esitMi = (deger1 == deger2) \n",
        "print(esitMi) \n",
        " \n",
        "deger1 = \"Python\"\n",
        "deger2 = \"Piton\"\n",
        "esitMi = (deger1 == deger2)\n",
        "print(esitMi)"
      ],
      "metadata": {
        "id": "35vRMXs9W7Fo"
      },
      "execution_count": null,
      "outputs": []
    }
  ]
}