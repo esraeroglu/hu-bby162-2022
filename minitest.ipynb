{
  "nbformat": 4,
  "nbformat_minor": 0,
  "metadata": {
    "colab": {
      "name": "minitest.ipynb",
      "provenance": [],
      "authorship_tag": "ABX9TyNT+r6RmDUV2wL/4mGDXBIJ",
      "include_colab_link": true
    },
    "kernelspec": {
      "name": "python3",
      "display_name": "Python 3"
    },
    "language_info": {
      "name": "python"
    }
  },
  "cells": [
    {
      "cell_type": "markdown",
      "metadata": {
        "id": "view-in-github",
        "colab_type": "text"
      },
      "source": [
        "<a href=\"https://colab.research.google.com/github/esraeroglu/hu-bby162-2022/blob/main/minitest.ipynb\" target=\"_parent\"><img src=\"https://colab.research.google.com/assets/colab-badge.svg\" alt=\"Open In Colab\"/></a>"
      ]
    },
    {
      "cell_type": "code",
      "execution_count": null,
      "metadata": {
        "id": "XM8JCa1oezsL"
      },
      "outputs": [],
      "source": [
        ""
      ]
    },
    {
      "cell_type": "code",
      "source": [
        "#Mini Test\n",
        "print(\"Mini teste hoşgeldiniz...\")\n",
        "print(\"cevaplarınızı a ya da b olarak giriniz\")\n",
        "sorular=[\"istanbul\",\"ankara\",\"izmir\",\"eskişehir\",\"bursa\"]\n",
        "cevaplar=[\"a\",\"b\",\"b\",\"a\",\"a\"]\n",
        "\n",
        "puan = 0\n",
        "\n",
        "print(\"1.\" +sorular[0])\n",
        "cevap= input(\"Cevabınız: \")\n",
        "if cevap == cevaplar[0]:\n",
        "  print(\"Doğru cevap\")\n",
        "  puan += 1\n",
        "else:\n",
        "    print(\"Yanlış cevap \")\n",
        "print(\"2.\" +sorular[1])\n",
        "cevap= input(\"Cevabınız: \")\n",
        "if cevap == cevaplar[1]:\n",
        "  print(\"Doğru cevap\")\n",
        "  puan += 1\n",
        "else:\n",
        "    print(\"Yanlış cevap \")\n",
        "print(\"3.\" +sorular[2])\n",
        "cevap= input(\"Cevabınız: \")\n",
        "if cevap== cevaplar[2]:\n",
        "  print(\"Doğru cevap\")\n",
        "  puan += 1\n",
        "else:\n",
        "    print(\"Yanlış cevap \")\n",
        "print(\"4.\" +sorular[3])\n",
        "cevap= input(\"Cevabınız: \")\n",
        "if cevap  == cevaplar[3]:\n",
        "  print(\"Doğru cevap\")\n",
        "  puan += 1\n",
        "else:\n",
        "   print(\"Yanlış cevap \")\n",
        "print(\"5.\" +sorular[4])\n",
        "cevap= input(\"Cevabınız: \")\n",
        "if cevap == cevaplar[4]:\n",
        "  print(\"Doğru cevap\")\n",
        "  puan += 1\n",
        "else:\n",
        "    print(\"Yanlış cevap\")\n",
        "     \n",
        "print(puan)"
      ],
      "metadata": {
        "colab": {
          "base_uri": "https://localhost:8080/"
        },
        "id": "-knMFCi1e4U-",
        "outputId": "720a076e-e38d-4534-a92a-0dcb4e82e6b0"
      },
      "execution_count": 18,
      "outputs": [
        {
          "output_type": "stream",
          "name": "stdout",
          "text": [
            "Mini teste hoşgeldiniz...\n",
            "cevaplarınızı a ya da b olarak giriniz\n",
            "1.istanbul\n",
            "Cevabınız: a\n",
            "Doğru cevap\n",
            "2.ankara\n",
            "Cevabınız: b\n",
            "Doğru cevap\n",
            "3.izmir\n",
            "Cevabınız: a\n",
            "Yanlış cevap \n",
            "4.eskişehir\n",
            "Cevabınız: a\n",
            "Doğru cevap\n",
            "5.bursa\n",
            "Cevabınız: b\n",
            "Yanlış cevap\n",
            "3\n"
          ]
        }
      ]
    }
  ]
}