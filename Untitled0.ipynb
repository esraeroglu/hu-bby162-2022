{
  "nbformat": 4,
  "nbformat_minor": 0,
  "metadata": {
    "colab": {
      "name": "Untitled0.ipynb",
      "provenance": [],
      "authorship_tag": "ABX9TyOSScAbnltgGl04Oo8GRVG9",
      "include_colab_link": true
    },
    "kernelspec": {
      "name": "python3",
      "display_name": "Python 3"
    },
    "language_info": {
      "name": "python"
    }
  },
  "cells": [
    {
      "cell_type": "markdown",
      "metadata": {
        "id": "view-in-github",
        "colab_type": "text"
      },
      "source": [
        "<a href=\"https://colab.research.google.com/github/esraeroglu/hu-bby162-2022/blob/main/Untitled0.ipynb\" target=\"_parent\"><img src=\"https://colab.research.google.com/assets/colab-badge.svg\" alt=\"Open In Colab\"/></a>"
      ]
    },
    {
      "cell_type": "code",
      "execution_count": 4,
      "metadata": {
        "colab": {
          "base_uri": "https://localhost:8080/"
        },
        "id": "KmSJqM06gvpi",
        "outputId": "122d10e1-5261-466e-fa3c-622291b4b6f8"
      },
      "outputs": [
        {
          "output_type": "stream",
          "name": "stdout",
          "text": [
            "('Açık Kaynak',)\n"
          ]
        }
      ],
      "source": [
        "acikListe= (\"Açık Bilim\",\"Açık Erişim\",\"Açık Veri\",\"Açık Eğitim\",\"Açık Kaynak\")\n",
        "print(acikListe[4:5])\n"
      ]
    },
    {
      "cell_type": "code",
      "source": [
        "Sözlük = {\"Hacettepe Üniversitesi\":'hacettepe.edu.tr',\"ODTÜ\":'odtü.edu.tr',\"Ankara Üniversitesi\":'ankara.edu.tr'}\n",
        "print(Sözlük)\n",
        "Sözlük[\"Hacettepe Üniversitesi\"] = \"hacettepe.edu.tr\"\n",
        "print(Sözlük)\n",
        "del Sözlük [\"Hacettepe Üniversitesi\"]\n",
        "print(Sözlük)"
      ],
      "metadata": {
        "colab": {
          "base_uri": "https://localhost:8080/"
        },
        "id": "KxE31cwSoXIi",
        "outputId": "5000377a-ed2f-4a10-a0c8-d494a7707f77"
      },
      "execution_count": 8,
      "outputs": [
        {
          "output_type": "stream",
          "name": "stdout",
          "text": [
            "{'Hacettepe Üniversitesi': 'hacettepe.edu.tr', 'ODTÜ': 'odtü.edu.tr', 'Ankara Üniversitesi': 'ankara.edu.tr'}\n",
            "{'Hacettepe Üniversitesi': 'hacettepe.edu.tr', 'ODTÜ': 'odtü.edu.tr', 'Ankara Üniversitesi': 'ankara.edu.tr'}\n",
            "{'ODTÜ': 'odtü.edu.tr', 'Ankara Üniversitesi': 'ankara.edu.tr'}\n"
          ]
        }
      ]
    }
  ]
}