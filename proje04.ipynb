{
  "cells": [
    {
      "cell_type": "markdown",
      "metadata": {
        "id": "view-in-github",
        "colab_type": "text"
      },
      "source": [
        "<a href=\"https://colab.research.google.com/github/esraeroglu/hu-bby162-2022/blob/main/proje04.ipynb\" target=\"_parent\"><img src=\"https://colab.research.google.com/assets/colab-badge.svg\" alt=\"Open In Colab\"/></a>"
      ]
    },
    {
      "cell_type": "code",
      "execution_count": null,
      "metadata": {
        "colab": {
          "base_uri": "https://localhost:8080/"
        },
        "id": "4waKtkaSDDET",
        "outputId": "7ae5b91c-8506-4e50-b1d3-5192e8c93ebd"
      },
      "outputs": [
        {
          "output_type": "stream",
          "name": "stdout",
          "text": [
            "\n",
            "Kütüphane Kataloğuna Hoşgeldiniz...\n",
            "\n",
            "Yapmak istediğiniz işlem nedir? \n",
            " 1)Kayıtları listele \n",
            " 2)Yeni kayıt ekle \n",
            " 3)Kayıt ara \n",
            " 4)Çıkış \n",
            "1\n",
            "Gurur ve Önyargı-Jane Austen-2020-İş bankası kültür yayınları\n",
            "\n",
            "Bülbülü Öldürmek-Harper Lee-2020-Epsilon yayınevi\n",
            "\n",
            "İçimizdeki Şeytan-Sabahattin Ali-2020-Yapı kredi yayınları\n",
            "\n",
            "Hamlet-William Shakespeare-2019-Anonim yayıncılık\n",
            "\n",
            "Sefiller-Victor Hugo-2019-İş bankası kültür yayınları\n",
            "\n",
            "Beyaz Geceler,Dostoyevski,Panama,2021\n",
            "\n",
            "\n",
            "Kütüphane Kataloğuna Hoşgeldiniz...\n",
            "\n",
            "Yapmak istediğiniz işlem nedir? \n",
            " 1)Kayıtları listele \n",
            " 2)Yeni kayıt ekle \n",
            " 3)Kayıt ara \n",
            " 4)Çıkış \n",
            "3\n",
            "Aramak istediğiniz kitabın adı:Sefiller\n",
            "\n",
            "Kütüphane Kataloğuna Hoşgeldiniz...\n",
            "\n",
            "Yapmak istediğiniz işlem nedir? \n",
            " 1)Kayıtları listele \n",
            " 2)Yeni kayıt ekle \n",
            " 3)Kayıt ara \n",
            " 4)Çıkış \n",
            "2\n",
            "Eser Adını giriniz : Three men in a boat\n",
            "Yazar Adını giriniz : Jerome K.Jerome\n",
            "Yayınevini giriniz : Dejavu Publishing\n",
            "Basım Tarihini Giriniz:2011\n",
            "\n",
            "Kütüphane Kataloğuna Hoşgeldiniz...\n",
            "\n",
            "Yapmak istediğiniz işlem nedir? \n",
            " 1)Kayıtları listele \n",
            " 2)Yeni kayıt ekle \n",
            " 3)Kayıt ara \n",
            " 4)Çıkış \n",
            "4\n",
            "\n",
            "Katalogdan çıkmak istediğine emin misin? (e/h)\n",
            "e\n",
            "\n",
            "Kütüphane Kataloğuna Hoşgeldiniz...\n"
          ]
        }
      ],
      "source": [
        "dosya =\"/content/drive/MyDrive/Colab Notebooks/veritabani.txt\"\n",
        "\n",
        "\n",
        "\n",
        "def eserKaydet(eserAdi,yazarAdi,yayinEvi,basimTarihi):\n",
        "  f=open(\"final.txt\",\"a\")\n",
        "  f.write(\"eserAdi+\",\"+yazarAdi+\",\"+yayinEvi+\",\"+basimTarihi+\",\"+\\n\")\n",
        "  f.close()\n",
        "  print(\"Ekleme başarıyla gerçekleşti...\")\n",
        "\n",
        "def kayıtListele():\n",
        "  veri = open(dosya,\"r\")\n",
        "  for line in veri.readlines():\n",
        "    print(line)\n",
        "    veri.close()\n",
        "\n",
        "def cikis():\n",
        "  tercih=input(\"Çıkış yapmak istediğinize emin misiniz:(E/H)?\")\n",
        "  if(tercih ==\"E\"):exit()\n",
        "\n",
        "\n",
        "def yeniKayıtekle():\n",
        "    eserAdi = input(\"Eser Adını giriniz : \")\n",
        "    yazarAdi = input(\"Yazar Adını giriniz : \")\n",
        "    yayinEvi = input(\"Yayınevini giriniz : \")\n",
        "    basimTarihi = input(\"Basım Tarihini Giriniz:\")\n",
        "    veri=open(dosya,\"a\")\n",
        "    veri.write(eserAdi+\",\"+yazarAdi+\",\"+yayinEvi+\",\"+basimTarihi+\"\\n\")\n",
        "    veri.close()\n",
        "  \n",
        "    \n",
        "def  kayıtAra():\n",
        "  ara=input(\"Aramak istediğiniz kitabın adı:\")\n",
        "  kayit=open(dosya,\"r\")\n",
        "\n",
        "\n",
        "\n",
        "def menu():\n",
        "  while True:\n",
        "      print(\"\\nKütüphane Kataloğuna Hoşgeldiniz...\")\n",
        "      secim = input(\"\\nYapmak istediğiniz işlem nedir? \\n 1)Kayıtları listele \\n 2)Yeni kayıt ekle \\n 3)Kayıt ara \\n 4)Çıkış \\n\")\n",
        "      if secim == \"1\":\n",
        "        kayıtListele()\n",
        "      elif secim == \"2\":\n",
        "        yeniKayıtekle()\n",
        "      elif secim == \"3\":\n",
        "        kayıtAra()\n",
        "      elif secim == \"4\":\n",
        "        print(\"\\nKatalogdan çıkmak istediğine emin misin? (e/h)\")\n",
        "        cik = input()\n",
        "      elif cik == \"e\":\n",
        "          print(\"\\nÇıkış yapıldı :(\")\n",
        "          break\n",
        "      else:\n",
        "          (\"\\nYapmak istediğiniz işlem nedir? \\n 1)Kayıtları listele \\n 2)Yeni kayıt ekle \\n 3)Kayıt ara \\n 4)Çıkış\")\n",
        "\n",
        "menu()"
      ]
    }
  ],
  "metadata": {
    "colab": {
      "collapsed_sections": [],
      "name": "proje04.ipynb",
      "provenance": [],
      "include_colab_link": true
    },
    "kernelspec": {
      "display_name": "Python 3",
      "name": "python3"
    },
    "language_info": {
      "name": "python"
    }
  },
  "nbformat": 4,
  "nbformat_minor": 0
}