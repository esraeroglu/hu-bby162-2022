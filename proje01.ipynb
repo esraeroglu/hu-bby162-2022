{
  "nbformat": 4,
  "nbformat_minor": 0,
  "metadata": {
    "colab": {
      "name": "proje01.ipynb",
      "provenance": [],
      "authorship_tag": "ABX9TyNdmZYaqQ8l8quoTY2gyP8l",
      "include_colab_link": true
    },
    "kernelspec": {
      "name": "python3",
      "display_name": "Python 3"
    },
    "language_info": {
      "name": "python"
    }
  },
  "cells": [
    {
      "cell_type": "markdown",
      "metadata": {
        "id": "view-in-github",
        "colab_type": "text"
      },
      "source": [
        "<a href=\"https://colab.research.google.com/github/esraeroglu/hu-bby162-2022/blob/main/proje01.ipynb\" target=\"_parent\"><img src=\"https://colab.research.google.com/assets/colab-badge.svg\" alt=\"Open In Colab\"/></a>"
      ]
    },
    {
      "cell_type": "code",
      "execution_count": 10,
      "metadata": {
        "id": "1D1V_7QT5mYu",
        "colab": {
          "base_uri": "https://localhost:8080/"
        },
        "outputId": "6c5a139d-43dd-4973-d110-d52eec1a2f3c"
      },
      "outputs": [
        {
          "output_type": "stream",
          "name": "stdout",
          "text": [
            "İndeks numarasını giriniz: girmeyeceğim\n",
            "İndeks dışı giriş..!\n"
          ]
        }
      ],
      "source": [
        "liste = [\"tavşan\",\"marul\",\"leopar\",\"salam\",\"demir\",\"tahta\"]\n",
        "secim = input(\"İndeks numarasını giriniz: \")\n",
        "\n",
        "if secim. isdigit():\n",
        "  secim=int(secim)\n",
        "  listeToplam = len(liste)\n",
        "  if secim < listeToplam: \n",
        "      print(liste[secim])\n",
        "else:\n",
        "  print(\"İndeks dışı giriş..!\")\n",
        " \n",
        "\n",
        "  "
      ]
    }
  ]
}