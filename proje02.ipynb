{
  "nbformat": 4,
  "nbformat_minor": 0,
  "metadata": {
    "colab": {
      "name": "proje02.ipynb",
      "provenance": [],
      "collapsed_sections": [],
      "include_colab_link": true
    },
    "kernelspec": {
      "name": "python3",
      "display_name": "Python 3"
    },
    "language_info": {
      "name": "python"
    }
  },
  "cells": [
    {
      "cell_type": "markdown",
      "metadata": {
        "id": "view-in-github",
        "colab_type": "text"
      },
      "source": [
        "<a href=\"https://colab.research.google.com/github/esraeroglu/hu-bby162-2022/blob/main/proje02.ipynb\" target=\"_parent\"><img src=\"https://colab.research.google.com/assets/colab-badge.svg\" alt=\"Open In Colab\"/></a>"
      ]
    },
    {
      "cell_type": "code",
      "execution_count": null,
      "metadata": {
        "id": "WTWEtTWTmN2P"
      },
      "outputs": [],
      "source": [
        "from random import choice\n",
        "\n",
        "\n",
        "\n",
        "def oyunFon():\n",
        "  # can sayısının belirlenmesi\n",
        "  adamCan = 3\n",
        "\n",
        "  kelimeler = ['voleybol','basketbol','futbol','hentbol' 'tenis']\n",
        "  secilenKelime = []\n",
        "  dizilenKelime = []\n",
        "  tumKelimelerBulundu = False\n",
        "  sayac = 0\n",
        "  tekrarOyna = True\n",
        "  \n",
        "\n",
        "\n",
        "  print(\"-------------------------\\n\\n\\n\\t\\tADAM ASMACA \\n\\n\\nLütfen zorluk derecesi giriniz (basit, orta, ileri): \")\n",
        "  x = input()\n",
        "  print (x)\n",
        "  # Seçilen zorluğa göre kelimelerin seçilmesi\n",
        "  if x == 'basit':\n",
        "    for kelime in kelimeler:\n",
        "      if len(kelime) <= 5:\n",
        "        secilenKelime.append(kelime)\n",
        "  elif x == 'orta':\n",
        "    for kelime in kelimeler:\n",
        "      if len(kelime) > 5 and len(kelime)<= 7:\n",
        "        secilenKelime.append(kelime)\n",
        "  elif x == 'ileri':\n",
        "    for kelime in kelimeler:\n",
        "      if len(kelime) > 7:\n",
        "        secilenKelime.append(kelime)\n",
        "  secim = choice(secilenKelime)\n",
        "\n",
        "  # Seçilen kelimedeki harf sayısı kadar \"_\" karakterinin dizilenKelime dizisine eklenmesi ve yazdırılması\n",
        "  for diz in secim:\n",
        "    dizilenKelime.append(\"_\")\n",
        "  print(dizilenKelime)\n",
        "\n",
        "  # Oyun Döngüsü\n",
        "  while adamCan >0 or tekrarOyna == True : \n",
        "    \n",
        "    girilenHarf = input(\"Lütfen bir harf giriniz: \")\n",
        "    canKontrol = girilenHarf in secim\n",
        "    \n",
        "    if canKontrol == False:\n",
        "      adamCan -=1\n",
        "    \n",
        "    # Oyunun durum kontrolü, eğer sayaç+1 sayısı seçilen kelimenin uzunluğuna eşitse while döngüsünden çıkar\n",
        "    elif sayac+1  == len(secim):\n",
        "      print(\"\\nTebrikler! Seçilen kelime: \" + secim)\n",
        "      y = input(\"Tekrar oynamak ister misiniz?(evet, hayır):\")\n",
        "      if y == 'hayır':\n",
        "        tekrarOyna == False\n",
        "        break\n",
        "      elif y == 'evet':\n",
        "          oyunFon()\n",
        "\n",
        "      \n",
        "    else:\n",
        "      i = 0    \n",
        "      for kontrol in secim:\n",
        "        if secim[i] == girilenHarf:\n",
        "          dizilenKelime[i] = girilenHarf\n",
        "          sayac +=1       \n",
        "        i+=1\n",
        "    print(dizilenKelime)\n",
        "    print(\"\\n\")\n",
        "    print('Kalan can: ' + str(adamCan) + '\\n')\n",
        "  if adamCan == 0:\n",
        "    print(\"Kaybettiniz\")\n",
        "oyunDurum = True\n",
        "while oyunDurum == True:\n",
        "  oyunFon()\n",
        "  oyunDurum = False        \n",
        "  "
      ]
    }
  ]
}